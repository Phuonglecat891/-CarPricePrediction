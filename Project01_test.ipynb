{
 "cells": [
  {
   "cell_type": "markdown",
   "metadata": {},
   "source": [
    "# Hướng dẫn sử dụng"
   ]
  },
  {
   "cell_type": "markdown",
   "metadata": {},
   "source": [
    "- Tại ô code cuối cùng, chỉnh sửa tên file test ở biến 'Xtest_filename' và 'Ytest_filename'\n",
    "- Chạy lệnh Kernel $\\rightarrow$ Run all.  \n",
    "KQ RMSE sẽ được in ra"
   ]
  },
  {
   "cell_type": "markdown",
   "metadata": {},
   "source": [
    "# Code test"
   ]
  },
  {
   "cell_type": "code",
   "execution_count": 3,
   "metadata": {},
   "outputs": [],
   "source": [
    "# Import library\n",
    "import pandas as pd\n",
    "import numpy as np\n",
    "import seaborn as sns\n",
    "import matplotlib.pyplot as plt\n",
    "from sklearn.preprocessing import OrdinalEncoder, OneHotEncoder, StandardScaler\n",
    "from sklearn.linear_model import LinearRegression\n",
    "from sklearn.linear_model import Ridge\n",
    "from sklearn.impute import SimpleImputer\n",
    "from sklearn.model_selection import train_test_split\n",
    "from sklearn.base import BaseEstimator, TransformerMixin\n",
    "from sklearn.compose import make_column_selector, make_column_transformer, ColumnTransformer\n",
    "from sklearn.pipeline import make_pipeline\n",
    "from sklearn.metrics import mean_squared_error, mean_absolute_error\n",
    "import pickle"
   ]
  },
  {
   "cell_type": "code",
   "execution_count": 4,
   "metadata": {},
   "outputs": [],
   "source": [
    "# Custom class\n",
    "class AddCustomAttributes_bool(BaseEstimator, TransformerMixin):\n",
    "    def fit(self, X, y=None):\n",
    "        return self\n",
    "    def transform(self, X, y=None):\n",
    "        X['feature_01'] = X['feature_0'] & X['feature_1']\n",
    "        X['feature_09'] = X['feature_0'] & X['feature_9']\n",
    "        X['feature_67'] = X['feature_6'] & X['feature_7']\n",
    "        X = X.drop(['feature_0','feature_1','feature_9','feature_6','feature_7'],axis=1)\n",
    "        return X\n",
    "class AddCustomAttributes_num(BaseEstimator, TransformerMixin):\n",
    "    def fit(self, X, y=None):\n",
    "        return self\n",
    "    def transform(self, X, y=None):\n",
    "        X[\"yearSquare\"] = X[\"year\"]**2\n",
    "        X[\"carAgeCube\"] = (2020 - X[\"year\"])**3\n",
    "        X['odometer'] = np.where(X['year']<=1982, 370000, X['odometer'])\n",
    "        X[\"odometerYear\"] = X[\"odometer\"]*X[\"year\"]\n",
    "        X[\"odometerInvert\"] = 1 / X[\"odometer\"]\n",
    "        X = X.drop([],axis=1)\n",
    "        return X\n",
    "class AddCustomAttributes_obj(BaseEstimator, TransformerMixin):\n",
    "    def fit(self, X, y=None):\n",
    "        return self\n",
    "    def transform(self, X, y=None):\n",
    "        X = X.drop(['engineFuel'],axis=1)\n",
    "        return X\n",
    "    \n",
    "# Test function\n",
    "def test(model, X_test, y_test):\n",
    "    y_pred_test = model.predict(X_test)\n",
    "    y_pred_test = np.absolute(y_pred_test)\n",
    "    print(\"MAE(X_test, y_test) =\", mean_absolute_error(y_pred_test, y_test))\n",
    "    print(\"RMSE(X_test, y_test) =\", mean_squared_error(y_pred_test, y_test, squared=False))\n",
    "#     return y_pred_test"
   ]
  },
  {
   "cell_type": "code",
   "execution_count": 5,
   "metadata": {},
   "outputs": [
    {
     "name": "stdout",
     "output_type": "stream",
     "text": [
      "MAE(X_test, y_test) = 1307.901417659793\n",
      "RMSE(X_test, y_test) = 2165.1735988459877\n"
     ]
    }
   ],
   "source": [
    "# Load model\n",
    "model_final_filename = \"model_final.pkl\"\n",
    "with open(model_final_filename, 'rb') as file:\n",
    "    model_input = pickle.load(file)\n",
    "\n",
    "# Load file test\n",
    "Xtest_filename = \"X_test.csv\"\n",
    "Ytest_filename = \"Y_test.csv\"\n",
    "X_test = pd.read_csv(\"./\" + Xtest_filename, index_col=\"id\")\n",
    "y_test = pd.read_csv(\"./\" + Ytest_filename, index_col=\"id\")\n",
    "    \n",
    "# Run test\n",
    "test(model_input, X_test, y_test)"
   ]
  },
  {
   "cell_type": "code",
   "execution_count": null,
   "metadata": {},
   "outputs": [],
   "source": []
  }
 ],
 "metadata": {
  "kernelspec": {
   "display_name": "Python 3",
   "language": "python",
   "name": "python3"
  },
  "language_info": {
   "codemirror_mode": {
    "name": "ipython",
    "version": 3
   },
   "file_extension": ".py",
   "mimetype": "text/x-python",
   "name": "python",
   "nbconvert_exporter": "python",
   "pygments_lexer": "ipython3",
   "version": "3.7.8"
  }
 },
 "nbformat": 4,
 "nbformat_minor": 4
}
