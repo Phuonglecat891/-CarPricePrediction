{
 "cells": [
  {
   "cell_type": "markdown",
   "metadata": {},
   "source": [
    "# Code train"
   ]
  },
  {
   "cell_type": "code",
   "execution_count": 1,
   "metadata": {},
   "outputs": [],
   "source": [
    "# Import library\n",
    "import pandas as pd\n",
    "import numpy as np\n",
    "import seaborn as sns\n",
    "import matplotlib.pyplot as plt\n",
    "from sklearn.preprocessing import OrdinalEncoder, OneHotEncoder, StandardScaler\n",
    "from sklearn.linear_model import LinearRegression\n",
    "from sklearn.linear_model import Ridge\n",
    "from sklearn.impute import SimpleImputer\n",
    "from sklearn.model_selection import train_test_split\n",
    "from sklearn.base import BaseEstimator, TransformerMixin\n",
    "from sklearn.compose import make_column_selector, make_column_transformer, ColumnTransformer\n",
    "from sklearn.pipeline import make_pipeline\n",
    "from sklearn.metrics import mean_squared_error, mean_absolute_error\n",
    "import pickle"
   ]
  },
  {
   "cell_type": "code",
   "execution_count": 2,
   "metadata": {},
   "outputs": [],
   "source": [
    "# Custom class\n",
    "class AddCustomAttributes_bool(BaseEstimator, TransformerMixin):\n",
    "    def fit(self, X, y=None):\n",
    "        return self\n",
    "    def transform(self, X, y=None):\n",
    "        X['feature_01'] = X['feature_0'] & X['feature_1']\n",
    "        X['feature_09'] = X['feature_0'] & X['feature_9']\n",
    "        X['feature_67'] = X['feature_6'] & X['feature_7']\n",
    "        X = X.drop(['feature_0','feature_1','feature_9','feature_6','feature_7'],axis=1)\n",
    "        return X\n",
    "class AddCustomAttributes_num(BaseEstimator, TransformerMixin):\n",
    "    def fit(self, X, y=None):\n",
    "        return self\n",
    "    def transform(self, X, y=None):\n",
    "        X[\"yearSquare\"] = X[\"year\"]**2\n",
    "        X[\"carAgeCube\"] = (2020 - X[\"year\"])**3\n",
    "        X['odometer'] = np.where(X['year']<=1982, 370000, X['odometer'])\n",
    "        X[\"odometerYear\"] = X[\"odometer\"]*X[\"year\"]\n",
    "        X[\"odometerInvert\"] = 1 / X[\"odometer\"]\n",
    "        X = X.drop([],axis=1)\n",
    "        return X\n",
    "class AddCustomAttributes_obj(BaseEstimator, TransformerMixin):\n",
    "    def fit(self, X, y=None):\n",
    "        return self\n",
    "    def transform(self, X, y=None):\n",
    "        X = X.drop(['engineFuel'],axis=1)\n",
    "        return X\n",
    "    \n",
    "# Train function\n",
    "def train(X_train, y_train):\n",
    "    num_pipeline = make_pipeline(AddCustomAttributes_num(), SimpleImputer(strategy=\"median\"), StandardScaler())\n",
    "    obj_pipeline = make_pipeline(AddCustomAttributes_obj(), OneHotEncoder(handle_unknown=\"ignore\"))\n",
    "    ct = make_column_transformer(\n",
    "        (num_pipeline, make_column_selector(dtype_include=np.number)),\n",
    "        (AddCustomAttributes_bool(), make_column_selector(dtype_include=bool)),\n",
    "        (obj_pipeline, make_column_selector(dtype_include=object)))\n",
    "    clf = make_pipeline(ct, LinearRegression())\n",
    "#     clf = make_pipeline(ct, Ridge(alpha=0.50))\n",
    "    clf.fit(X_train, y_train)\n",
    "    return clf\n",
    "    \n",
    "# Load all test data\n",
    "X = pd.read_csv(\"./X_train.csv\", index_col=\"id\")\n",
    "y = pd.read_csv(\"./Y_train.csv\", index_col=\"id\")\n",
    "\n",
    "# Train model\n",
    "model_final = train(X, y)\n",
    "\n",
    "# Save model\n",
    "model_final_filename = \"model_final.pkl\"\n",
    "with open(model_final_filename, 'wb') as file:\n",
    "    pickle.dump(model_final, file)"
   ]
  },
  {
   "cell_type": "code",
   "execution_count": null,
   "metadata": {},
   "outputs": [],
   "source": []
  }
 ],
 "metadata": {
  "kernelspec": {
   "display_name": "Python 3",
   "language": "python",
   "name": "python3"
  },
  "language_info": {
   "codemirror_mode": {
    "name": "ipython",
    "version": 3
   },
   "file_extension": ".py",
   "mimetype": "text/x-python",
   "name": "python",
   "nbconvert_exporter": "python",
   "pygments_lexer": "ipython3",
   "version": "3.7.8"
  }
 },
 "nbformat": 4,
 "nbformat_minor": 4
}
